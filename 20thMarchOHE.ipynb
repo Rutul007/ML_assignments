{
 "cells": [
  {
   "cell_type": "markdown",
   "id": "eb0b8c8d-8ce8-47e6-80aa-f622be1bf9c6",
   "metadata": {},
   "source": [
    "# Q1. What is data encoding? How is it useful in data science?"
   ]
  },
  {
   "cell_type": "markdown",
   "id": "94cb0509-221c-461e-9a06-538a21c2b76f",
   "metadata": {},
   "source": [
    "# Data encoding is used to convert a categorical feature into a suitable numerical feature for ML model train."
   ]
  },
  {
   "cell_type": "markdown",
   "id": "c5cb2215-f907-4997-a05e-9826a6a18984",
   "metadata": {},
   "source": [
    "# Types of data encoding:-\n",
    "# 1. Nominal / OHE(One Hot Encoding)\n",
    "# 2. Ordinal and Label Encoding\n",
    "# 3. Target Guided Ordinal Encoding\n",
    "#\n",
    "#"
   ]
  },
  {
   "cell_type": "markdown",
   "id": "fec8ef14-e941-4ec6-906a-0ec85546b35b",
   "metadata": {},
   "source": [
    "# Q2. What is nominal encoding? Provide an example of how you would use it in a real-world scenario."
   ]
  },
  {
   "cell_type": "markdown",
   "id": "ac3f31fc-7778-4d43-9918-0a35adca69a6",
   "metadata": {},
   "source": [
    "# When we have a feature where variables are just names and there is no order or rank to this variable's feature.\n",
    "\n",
    "\n",
    "# For example: City of person lives in, Gender of person, Marital Status, etc…\n",
    "\n",
    "# In the above example, We do not have any order or rank, or sequence. All the variables in the respective feature are equal. We can't give them any orders or ranks. Those features are called Nominal features.\n",
    "#\n",
    "#\n",
    "#"
   ]
  },
  {
   "cell_type": "markdown",
   "id": "5979ebde-aea8-4f35-884e-2c5f64c3ec51",
   "metadata": {},
   "source": [
    "# Q3. In what situations is nominal encoding preferred over one-hot encoding? Provide a practical example."
   ]
  },
  {
   "cell_type": "markdown",
   "id": "05ad0578-4500-415d-8c25-23ca0d4a33f8",
   "metadata": {},
   "source": [
    "# When we have a feature where variables are just names and there is no order or rank to this variable's feature.\n",
    "\n",
    "\n",
    "# For example: City of person lives in, Gender of person, Marital Status, etc…\n",
    "\n",
    "# In the above example, We do not have any order or rank, or sequence. All the variables in the respective feature are equal. We can't give them any orders or ranks. Those features are called Nominal features.\n",
    "#\n",
    "#\n",
    "#"
   ]
  },
  {
   "cell_type": "markdown",
   "id": "3911dfac-1bbe-4a27-8894-d224f12a05fd",
   "metadata": {},
   "source": [
    "# Q4. Suppose you have a dataset containing categorical data with 5 unique values. Which encoding technique would you use to transform this data into a format suitable for machine learning algorithms? Explain why you made this choice."
   ]
  },
  {
   "cell_type": "markdown",
   "id": "5c1266e9-f211-4901-9c3f-82c016859a26",
   "metadata": {},
   "source": [
    "# It depends, if I have nominal data then i use OHE technique , because by this technique i can create a binoory vector for each catagory in the variable\n",
    "#\n",
    "#\n",
    "#"
   ]
  },
  {
   "cell_type": "markdown",
   "id": "cdd4c564-e987-486c-b442-670fc8e09e27",
   "metadata": {},
   "source": [
    "# Q5. In a machine learning project, you have a dataset with 1000 rows and 5 columns. Two of the columns are categorical, and the remaining three columns are numerical. If you were to use nominal encoding to transform the categorical data, how many new columns would be created? Show your calculations."
   ]
  },
  {
   "cell_type": "markdown",
   "id": "30d2edeb-0087-4400-bd29-a373db977cbf",
   "metadata": {},
   "source": [
    "# if two columns are categorical in basic dataset then total no of extra columns which will added in encoded dataset is \n",
    "# no.of unique value of 1st feature + no.of unique value of 2nd feature\n",
    "#\n",
    "#\n",
    "#"
   ]
  },
  {
   "cell_type": "markdown",
   "id": "b78f647a-ca51-4d95-b96d-2323ee9aa94d",
   "metadata": {},
   "source": [
    "# Q6 .You are working with a dataset containing information about different types of animals, including their species, habitat, and diet. Which encoding technique would you use to transform the categorical data into a format suitable for machine learning algorithms? Justify your answer."
   ]
  },
  {
   "cell_type": "markdown",
   "id": "7b06d1c7-1a7a-4232-8357-716c13d05985",
   "metadata": {},
   "source": [
    "# I would use OHE technique, By that I can transform this categorical data into numerical data easily.\n",
    "#\n",
    "#\n",
    "#"
   ]
  },
  {
   "cell_type": "code",
   "execution_count": null,
   "id": "43aaa730-85ac-4984-946c-99e24a7ab8c1",
   "metadata": {},
   "outputs": [],
   "source": []
  }
 ],
 "metadata": {
  "kernelspec": {
   "display_name": "Python 3 (ipykernel)",
   "language": "python",
   "name": "python3"
  },
  "language_info": {
   "codemirror_mode": {
    "name": "ipython",
    "version": 3
   },
   "file_extension": ".py",
   "mimetype": "text/x-python",
   "name": "python",
   "nbconvert_exporter": "python",
   "pygments_lexer": "ipython3",
   "version": "3.10.8"
  }
 },
 "nbformat": 4,
 "nbformat_minor": 5
}
